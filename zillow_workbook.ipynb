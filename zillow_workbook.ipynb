{
 "cells": [
  {
   "cell_type": "code",
   "execution_count": 1,
   "id": "5b0abdcd",
   "metadata": {},
   "outputs": [],
   "source": [
    "import numpy as np\n",
    "import pandas as pd\n",
    "\n",
    "import matplotlib.pyplot as plt\n",
    "import seaborn as sns\n",
    "\n",
    "from sklearn.model_selection import train_test_split\n",
    "import sklearn.preprocessing\n",
    "from sklearn.feature_selection import SelectKBest, f_regression\n",
    "from sklearn.linear_model import LinearRegression, LassoLars, TweedieRegressor\n",
    "from sklearn.feature_selection import RFE\n",
    "from sklearn.metrics import mean_squared_error\n",
    "from sklearn.preprocessing import PolynomialFeatures\n",
    "from scipy.stats import pearsonr, spearmanr\n",
    "\n",
    "import os\n",
    "from env import username, password, host\n",
    "import env\n",
    "\n",
    "import wrangle\n",
    "\n",
    "import warnings\n",
    "warnings.filterwarnings(\"ignore\")"
   ]
  },
  {
   "cell_type": "markdown",
   "id": "e912ccb1",
   "metadata": {},
   "source": [
    "## Acquire"
   ]
  },
  {
   "cell_type": "code",
   "execution_count": 2,
   "id": "2d4832ea",
   "metadata": {},
   "outputs": [],
   "source": [
    "def acquire_zillow(use_cache=True):\n",
    "    ''' \n",
    "    This function acquires all necessary housing data from zillow \n",
    "    needed to better understand future pricing\n",
    "    '''\n",
    "    \n",
    "    if os.path.exists('zillow.csv') and use_cache:\n",
    "        print('Using cached csv')\n",
    "        return pd.read_csv('zillow.csv')\n",
    "    print('Acquiring data from SQL database')\n",
    "\n",
    "    database_url_base = f'mysql+pymysql://{username}:{password}@{host}/zillow'\n",
    "    query = '''\n",
    "    SELECT bedroomcnt AS bedrooms, \n",
    "           bathroomcnt AS bathrooms, \n",
    "           calculatedfinishedsquarefeet AS sqft, \n",
    "           taxvaluedollarcnt AS tax_value, \n",
    "           yearbuilt AS yr_built,\n",
    "           lotsizesquarefeet AS lot_sqft,\n",
    "           fips\n",
    "        FROM properties_2017\n",
    "    \n",
    "        JOIN propertylandusetype USING(propertylandusetypeid)\n",
    "        \n",
    "        JOIN predictions_2017 pr USING (parcelid)\n",
    "        WHERE propertylandusedesc IN ('Single Family Residential',\n",
    "        \n",
    "                                      'Inferred Single Family Residential')\n",
    "                              AND pr.transactiondate LIKE '2017%%';\n",
    "            '''\n",
    "    \n",
    "    \n",
    "    df = pd.read_sql(query, database_url_base)\n",
    "    df.to_csv('zillow.csv', index=False)\n",
    "   \n",
    "    return df"
   ]
  },
  {
   "cell_type": "code",
   "execution_count": 3,
   "id": "c5370108",
   "metadata": {
    "scrolled": false
   },
   "outputs": [
    {
     "name": "stdout",
     "output_type": "stream",
     "text": [
      "Using cached csv\n"
     ]
    }
   ],
   "source": [
    "df = acquire_zillow()"
   ]
  },
  {
   "cell_type": "code",
   "execution_count": 4,
   "id": "3a4e36fb",
   "metadata": {},
   "outputs": [
    {
     "data": {
      "text/html": [
       "<div>\n",
       "<style scoped>\n",
       "    .dataframe tbody tr th:only-of-type {\n",
       "        vertical-align: middle;\n",
       "    }\n",
       "\n",
       "    .dataframe tbody tr th {\n",
       "        vertical-align: top;\n",
       "    }\n",
       "\n",
       "    .dataframe thead th {\n",
       "        text-align: right;\n",
       "    }\n",
       "</style>\n",
       "<table border=\"1\" class=\"dataframe\">\n",
       "  <thead>\n",
       "    <tr style=\"text-align: right;\">\n",
       "      <th></th>\n",
       "      <th>bedrooms</th>\n",
       "      <th>bathrooms</th>\n",
       "      <th>sqft</th>\n",
       "      <th>tax_value</th>\n",
       "      <th>yr_built</th>\n",
       "      <th>tax_amount</th>\n",
       "      <th>county_id</th>\n",
       "      <th>fips</th>\n",
       "    </tr>\n",
       "  </thead>\n",
       "  <tbody>\n",
       "    <tr>\n",
       "      <th>0</th>\n",
       "      <td>4.0</td>\n",
       "      <td>3.5</td>\n",
       "      <td>3100.0</td>\n",
       "      <td>1023282.0</td>\n",
       "      <td>1998.0</td>\n",
       "      <td>11013.72</td>\n",
       "      <td>1286.0</td>\n",
       "      <td>6059.0</td>\n",
       "    </tr>\n",
       "    <tr>\n",
       "      <th>1</th>\n",
       "      <td>2.0</td>\n",
       "      <td>1.0</td>\n",
       "      <td>1465.0</td>\n",
       "      <td>464000.0</td>\n",
       "      <td>1967.0</td>\n",
       "      <td>5672.48</td>\n",
       "      <td>2061.0</td>\n",
       "      <td>6111.0</td>\n",
       "    </tr>\n",
       "    <tr>\n",
       "      <th>2</th>\n",
       "      <td>3.0</td>\n",
       "      <td>2.0</td>\n",
       "      <td>1243.0</td>\n",
       "      <td>564778.0</td>\n",
       "      <td>1962.0</td>\n",
       "      <td>6488.30</td>\n",
       "      <td>1286.0</td>\n",
       "      <td>6059.0</td>\n",
       "    </tr>\n",
       "    <tr>\n",
       "      <th>3</th>\n",
       "      <td>4.0</td>\n",
       "      <td>3.0</td>\n",
       "      <td>2376.0</td>\n",
       "      <td>145143.0</td>\n",
       "      <td>1970.0</td>\n",
       "      <td>1777.51</td>\n",
       "      <td>3101.0</td>\n",
       "      <td>6037.0</td>\n",
       "    </tr>\n",
       "    <tr>\n",
       "      <th>4</th>\n",
       "      <td>4.0</td>\n",
       "      <td>3.0</td>\n",
       "      <td>2962.0</td>\n",
       "      <td>773303.0</td>\n",
       "      <td>1950.0</td>\n",
       "      <td>9516.26</td>\n",
       "      <td>3101.0</td>\n",
       "      <td>6037.0</td>\n",
       "    </tr>\n",
       "  </tbody>\n",
       "</table>\n",
       "</div>"
      ],
      "text/plain": [
       "   bedrooms  bathrooms    sqft  tax_value  yr_built  tax_amount  county_id  \\\n",
       "0       4.0        3.5  3100.0  1023282.0    1998.0    11013.72     1286.0   \n",
       "1       2.0        1.0  1465.0   464000.0    1967.0     5672.48     2061.0   \n",
       "2       3.0        2.0  1243.0   564778.0    1962.0     6488.30     1286.0   \n",
       "3       4.0        3.0  2376.0   145143.0    1970.0     1777.51     3101.0   \n",
       "4       4.0        3.0  2962.0   773303.0    1950.0     9516.26     3101.0   \n",
       "\n",
       "     fips  \n",
       "0  6059.0  \n",
       "1  6111.0  \n",
       "2  6059.0  \n",
       "3  6037.0  \n",
       "4  6037.0  "
      ]
     },
     "execution_count": 4,
     "metadata": {},
     "output_type": "execute_result"
    }
   ],
   "source": [
    "df.head()"
   ]
  },
  {
   "cell_type": "code",
   "execution_count": 5,
   "id": "c0e3781c",
   "metadata": {},
   "outputs": [
    {
     "data": {
      "text/plain": [
       "(52441, 8)"
      ]
     },
     "execution_count": 5,
     "metadata": {},
     "output_type": "execute_result"
    }
   ],
   "source": [
    "df.shape"
   ]
  },
  {
   "cell_type": "markdown",
   "id": "2abf7ebd",
   "metadata": {},
   "source": [
    "## Clean "
   ]
  },
  {
   "cell_type": "code",
   "execution_count": 6,
   "id": "a531220e",
   "metadata": {},
   "outputs": [],
   "source": [
    "# def remove_outliers(df, k, col_list):\n",
    "#     ''' \n",
    "#     This function remove outliers from a list of columns in a dataframe \n",
    "#     and returns that dataframe\n",
    "#     '''\n",
    "    \n",
    "#     # Go through each column\n",
    "#     for col in col_list:\n",
    "        \n",
    "#         # Get the quantiles\n",
    "#         q1, q3 = df[col].quantile([.25, .75])\n",
    "        \n",
    "#         # Get the quantile range\n",
    "#         iqr = q3 - q1\n",
    "        \n",
    "#         # Establish the upper and lower\n",
    "#         upper_bound = q3 + k * iqr  \n",
    "#         lower_bound = q1 - k * iqr   \n",
    "\n",
    "#         # Redefine the DataFrame with removed outliers\n",
    "#         df = df[(df[col] > lower_bound) & (df[col] < upper_bound)]\n",
    "        \n",
    "#     return df"
   ]
  },
  {
   "cell_type": "code",
   "execution_count": 7,
   "id": "04212b45",
   "metadata": {},
   "outputs": [],
   "source": [
    "# def clean_zillow(df):\n",
    "#     '''\n",
    "#     This function takes in the zillow data, cleans it, and returns a dataframe\n",
    "#     '''\n",
    "    \n",
    "#     # Apply a function to remove outliers\n",
    "#     df = remove_outliers(df, 1.5, ['bedrooms','bathrooms',\n",
    "#                                    'sqft','tax_value','tax_amount'])\n",
    "    \n",
    "#     # Remove more of the outliers for sqft\n",
    "#     df = df[(df.sqft > 500) & (df.sqft < 2500)]\n",
    "#     # Remove more of the outliers for taxvalue\n",
    "#     df = df[(df.tax_value > 500) & (df.tax_value < 800000)]\n",
    "    \n",
    "    # Drop rows with null values since it is only a small portion of the\n",
    "#     dataframe \n",
    "#     df = df.dropna()\n",
    "\n",
    "#     # Create list of datatypes to change\n",
    "#     int_cols = ['bedrooms','sqft','tax_amount','age']\n",
    "#     obj_cols = ['yr_built']\n",
    "    \n",
    "#     # Change data types of above columns\n",
    "#     for col in df:\n",
    "#         if col in int_cols:\n",
    "#             df[col] = df[col].astype(int)\n",
    "#         if col in obj_cols:\n",
    "#             df[col] = df[col].astype(int).astype(object)\n",
    "    \n",
    "#     # Drop the target column\n",
    "#     df = df.drop(columns='tax_value')\n",
    "    \n",
    "#     return df"
   ]
  },
  {
   "cell_type": "code",
   "execution_count": 8,
   "id": "9e3cca15",
   "metadata": {},
   "outputs": [],
   "source": [
    "# df = clean_zillow(df)"
   ]
  },
  {
   "cell_type": "code",
   "execution_count": 9,
   "id": "75ec62c7",
   "metadata": {},
   "outputs": [],
   "source": [
    "df = df.dropna()"
   ]
  },
  {
   "cell_type": "code",
   "execution_count": 10,
   "id": "127bc39c",
   "metadata": {},
   "outputs": [
    {
     "data": {
      "text/plain": [
       "bedrooms      0\n",
       "bathrooms     0\n",
       "sqft          0\n",
       "tax_value     0\n",
       "yr_built      0\n",
       "tax_amount    0\n",
       "county_id     0\n",
       "fips          0\n",
       "dtype: int64"
      ]
     },
     "execution_count": 10,
     "metadata": {},
     "output_type": "execute_result"
    }
   ],
   "source": [
    "df.isnull().sum()"
   ]
  },
  {
   "cell_type": "code",
   "execution_count": 12,
   "id": "d1de04d0",
   "metadata": {},
   "outputs": [],
   "source": [
    "# Create list of datatypes to change\n",
    "int_cols = ['bedrooms','sqft', 'yr_built', 'fips']\n",
    "# obj_cols = []\n",
    "\n",
    "# Change data types of above columns\n",
    "for col in df:\n",
    "    if col in int_cols:\n",
    "        df[col] = df[col].astype(int)\n",
    "#     if col in obj_cols:\n",
    "#         df[col] = df[col].astype(int).astype(object)\n"
   ]
  },
  {
   "cell_type": "code",
   "execution_count": 13,
   "id": "9cbb97c5",
   "metadata": {},
   "outputs": [],
   "source": [
    "# # Drop the target column\n",
    "# df = df.drop(columns='tax_value')"
   ]
  },
  {
   "cell_type": "code",
   "execution_count": 25,
   "id": "a4c3822b",
   "metadata": {},
   "outputs": [
    {
     "data": {
      "text/plain": [
       "6037    33875\n",
       "6059    14082\n",
       "6111     4358\n",
       "Name: fips, dtype: int64"
      ]
     },
     "execution_count": 25,
     "metadata": {},
     "output_type": "execute_result"
    }
   ],
   "source": [
    "df.fips.value_counts()"
   ]
  },
  {
   "cell_type": "code",
   "execution_count": 14,
   "id": "5c46e39c",
   "metadata": {},
   "outputs": [
    {
     "data": {
      "text/html": [
       "<div>\n",
       "<style scoped>\n",
       "    .dataframe tbody tr th:only-of-type {\n",
       "        vertical-align: middle;\n",
       "    }\n",
       "\n",
       "    .dataframe tbody tr th {\n",
       "        vertical-align: top;\n",
       "    }\n",
       "\n",
       "    .dataframe thead th {\n",
       "        text-align: right;\n",
       "    }\n",
       "</style>\n",
       "<table border=\"1\" class=\"dataframe\">\n",
       "  <thead>\n",
       "    <tr style=\"text-align: right;\">\n",
       "      <th></th>\n",
       "      <th>bedrooms</th>\n",
       "      <th>bathrooms</th>\n",
       "      <th>sqft</th>\n",
       "      <th>tax_value</th>\n",
       "      <th>yr_built</th>\n",
       "      <th>tax_amount</th>\n",
       "      <th>county_id</th>\n",
       "      <th>fips</th>\n",
       "    </tr>\n",
       "  </thead>\n",
       "  <tbody>\n",
       "    <tr>\n",
       "      <th>0</th>\n",
       "      <td>4</td>\n",
       "      <td>3.5</td>\n",
       "      <td>3100</td>\n",
       "      <td>1023282.0</td>\n",
       "      <td>1998</td>\n",
       "      <td>11013.72</td>\n",
       "      <td>1286.0</td>\n",
       "      <td>6059</td>\n",
       "    </tr>\n",
       "    <tr>\n",
       "      <th>1</th>\n",
       "      <td>2</td>\n",
       "      <td>1.0</td>\n",
       "      <td>1465</td>\n",
       "      <td>464000.0</td>\n",
       "      <td>1967</td>\n",
       "      <td>5672.48</td>\n",
       "      <td>2061.0</td>\n",
       "      <td>6111</td>\n",
       "    </tr>\n",
       "    <tr>\n",
       "      <th>2</th>\n",
       "      <td>3</td>\n",
       "      <td>2.0</td>\n",
       "      <td>1243</td>\n",
       "      <td>564778.0</td>\n",
       "      <td>1962</td>\n",
       "      <td>6488.30</td>\n",
       "      <td>1286.0</td>\n",
       "      <td>6059</td>\n",
       "    </tr>\n",
       "    <tr>\n",
       "      <th>3</th>\n",
       "      <td>4</td>\n",
       "      <td>3.0</td>\n",
       "      <td>2376</td>\n",
       "      <td>145143.0</td>\n",
       "      <td>1970</td>\n",
       "      <td>1777.51</td>\n",
       "      <td>3101.0</td>\n",
       "      <td>6037</td>\n",
       "    </tr>\n",
       "    <tr>\n",
       "      <th>4</th>\n",
       "      <td>4</td>\n",
       "      <td>3.0</td>\n",
       "      <td>2962</td>\n",
       "      <td>773303.0</td>\n",
       "      <td>1950</td>\n",
       "      <td>9516.26</td>\n",
       "      <td>3101.0</td>\n",
       "      <td>6037</td>\n",
       "    </tr>\n",
       "  </tbody>\n",
       "</table>\n",
       "</div>"
      ],
      "text/plain": [
       "   bedrooms  bathrooms  sqft  tax_value  yr_built  tax_amount  county_id  fips\n",
       "0         4        3.5  3100  1023282.0      1998    11013.72     1286.0  6059\n",
       "1         2        1.0  1465   464000.0      1967     5672.48     2061.0  6111\n",
       "2         3        2.0  1243   564778.0      1962     6488.30     1286.0  6059\n",
       "3         4        3.0  2376   145143.0      1970     1777.51     3101.0  6037\n",
       "4         4        3.0  2962   773303.0      1950     9516.26     3101.0  6037"
      ]
     },
     "execution_count": 14,
     "metadata": {},
     "output_type": "execute_result"
    }
   ],
   "source": [
    "# Replace fips code with the county the property resides in\n",
    "df.fips = df.fips.replace({6037:'los_angeles',6059:'orange',6111:'ventura'})\n"
   ]
  },
  {
   "cell_type": "markdown",
   "id": "c06517c9",
   "metadata": {},
   "source": [
    "## Split"
   ]
  },
  {
   "cell_type": "code",
   "execution_count": 15,
   "id": "d44ef1a0",
   "metadata": {},
   "outputs": [],
   "source": [
    "# Split the data\n",
    "train_val, test = train_test_split(df, \n",
    "                                   train_size=0.8, \n",
    "                                   random_state = 123) \n",
    "#                                    stratify = df['tax_value'])\n",
    "    \n",
    "    \n",
    "train, validate = train_test_split(train_val, \n",
    "                                   train_size=0.7, \n",
    "                                   random_state=123) \n",
    "#                                    stratify = train['tax_value'])"
   ]
  },
  {
   "cell_type": "code",
   "execution_count": 16,
   "id": "c7d2fb94",
   "metadata": {},
   "outputs": [
    {
     "data": {
      "text/plain": [
       "((29296, 8), (12556, 8), (10463, 8))"
      ]
     },
     "execution_count": 16,
     "metadata": {},
     "output_type": "execute_result"
    }
   ],
   "source": [
    "train.shape, validate.shape, test.shape"
   ]
  },
  {
   "cell_type": "markdown",
   "id": "cc8a46ed",
   "metadata": {},
   "source": [
    "## Exploration"
   ]
  },
  {
   "cell_type": "code",
   "execution_count": 17,
   "id": "32baacc0",
   "metadata": {},
   "outputs": [],
   "source": [
    "# Create a function to use that takes in continuous columns and plots \n",
    "# Create continuous columns to plot\n",
    "cont_cols = ['bedrooms', 'bathrooms', 'sqft', 'tax_value']\n",
    "\n",
    "# Create a plot\n",
    "def plot_variable_pairs(df):\n",
    "    sns.pairplot(df, kind='reg', plot_kws={'line_kws':{'color':'red'}}, corner = True)"
   ]
  },
  {
   "cell_type": "code",
   "execution_count": 18,
   "id": "aa7d16e6",
   "metadata": {},
   "outputs": [
    {
     "data": {
      "image/png": "[encoded data removed]",
      "text/plain": [
       "<Figure size 720x720 with 14 Axes>"
      ]
     },
     "metadata": {
      "needs_background": "light"
     },
     "output_type": "display_data"
    }
   ],
   "source": [
    "# Plug everything in\n",
    "plot_variable_pairs(train[cont_cols])"
   ]
  },
  {
   "cell_type": "code",
   "execution_count": 22,
   "id": "a38006e9",
   "metadata": {},
   "outputs": [
    {
     "data": {
      "text/html": [
       "<div>\n",
       "<style scoped>\n",
       "    .dataframe tbody tr th:only-of-type {\n",
       "        vertical-align: middle;\n",
       "    }\n",
       "\n",
       "    .dataframe tbody tr th {\n",
       "        vertical-align: top;\n",
       "    }\n",
       "\n",
       "    .dataframe thead th {\n",
       "        text-align: right;\n",
       "    }\n",
       "</style>\n",
       "<table border=\"1\" class=\"dataframe\">\n",
       "  <thead>\n",
       "    <tr style=\"text-align: right;\">\n",
       "      <th></th>\n",
       "      <th>index</th>\n",
       "      <th>tax_value</th>\n",
       "    </tr>\n",
       "  </thead>\n",
       "  <tbody>\n",
       "    <tr>\n",
       "      <th>0</th>\n",
       "      <td>tax_value</td>\n",
       "      <td>1.000000</td>\n",
       "    </tr>\n",
       "    <tr>\n",
       "      <th>1</th>\n",
       "      <td>tax_amount</td>\n",
       "      <td>0.992834</td>\n",
       "    </tr>\n",
       "    <tr>\n",
       "      <th>2</th>\n",
       "      <td>sqft</td>\n",
       "      <td>0.595221</td>\n",
       "    </tr>\n",
       "    <tr>\n",
       "      <th>3</th>\n",
       "      <td>bathrooms</td>\n",
       "      <td>0.517639</td>\n",
       "    </tr>\n",
       "    <tr>\n",
       "      <th>4</th>\n",
       "      <td>bedrooms</td>\n",
       "      <td>0.277379</td>\n",
       "    </tr>\n",
       "    <tr>\n",
       "      <th>5</th>\n",
       "      <td>yr_built</td>\n",
       "      <td>0.167091</td>\n",
       "    </tr>\n",
       "    <tr>\n",
       "      <th>6</th>\n",
       "      <td>fips</td>\n",
       "      <td>0.022425</td>\n",
       "    </tr>\n",
       "    <tr>\n",
       "      <th>7</th>\n",
       "      <td>county_id</td>\n",
       "      <td>-0.051308</td>\n",
       "    </tr>\n",
       "  </tbody>\n",
       "</table>\n",
       "</div>"
      ],
      "text/plain": [
       "        index  tax_value\n",
       "0   tax_value   1.000000\n",
       "1  tax_amount   0.992834\n",
       "2        sqft   0.595221\n",
       "3   bathrooms   0.517639\n",
       "4    bedrooms   0.277379\n",
       "5    yr_built   0.167091\n",
       "6        fips   0.022425\n",
       "7   county_id  -0.051308"
      ]
     },
     "execution_count": 22,
     "metadata": {},
     "output_type": "execute_result"
    }
   ],
   "source": [
    "df_corr = train.corr().reset_index()\n",
    "corr_matrix = train.corr()\n",
    "corr_matrix['tax_value'].sort_values(ascending = False).reset_index()"
   ]
  },
  {
   "cell_type": "markdown",
   "id": "0130c77a",
   "metadata": {},
   "source": [
    "### Exploratory Questions:\n",
    " - Does number of bedrooms effect tax value?\n",
    " - Does square footage effect tax value?"
   ]
  },
  {
   "cell_type": "markdown",
   "id": "7d581f8f",
   "metadata": {},
   "source": [
    "## Modeling / Feature Engineering"
   ]
  },
  {
   "cell_type": "code",
   "execution_count": 23,
   "id": "e1f84500",
   "metadata": {},
   "outputs": [],
   "source": [
    "# Define the X and y's while dropping the target \n",
    "target = 'tax_value'\n",
    "    \n",
    "# split train into X (dataframe, drop target) & y (series, keep target only)\n",
    "x_train = train.drop(columns=[target])\n",
    "y_train = train[target]\n",
    "\n",
    "# split validate into X (dataframe, drop target) & y (series, keep target only)\n",
    "x_val = validate.drop(columns=[target])\n",
    "y_val = validate[target]\n",
    "\n",
    "# split test into X (dataframe, drop target) & y (series, keep target only)\n",
    "x_test = test.drop(columns=[target])\n",
    "y_test = test[target]"
   ]
  },
  {
   "cell_type": "code",
   "execution_count": 24,
   "id": "ef10ef10",
   "metadata": {},
   "outputs": [
    {
     "ename": "AttributeError",
     "evalue": "'Series' object has no attribute 'tax_value'",
     "output_type": "error",
     "traceback": [
      "\u001b[0;31m---------------------------------------------------------------------------\u001b[0m",
      "\u001b[0;31mAttributeError\u001b[0m                            Traceback (most recent call last)",
      "\u001b[0;32m/var/folders/x6/9q2vjsz90nx_0lgx5gr8g33w0000gn/T/ipykernel_15105/3151740247.py\u001b[0m in \u001b[0;36m<module>\u001b[0;34m\u001b[0m\n\u001b[1;32m      4\u001b[0m \u001b[0;34m\u001b[0m\u001b[0m\n\u001b[1;32m      5\u001b[0m \u001b[0;31m# calculate baseline rmse for train and validate using median which is common for housing values\u001b[0m\u001b[0;34m\u001b[0m\u001b[0;34m\u001b[0m\u001b[0m\n\u001b[0;32m----> 6\u001b[0;31m \u001b[0mbaseline_rmse_train\u001b[0m \u001b[0;34m=\u001b[0m \u001b[0mmean_squared_error\u001b[0m\u001b[0;34m(\u001b[0m\u001b[0my_train\u001b[0m\u001b[0;34m.\u001b[0m\u001b[0mtax_value\u001b[0m\u001b[0;34m,\u001b[0m \u001b[0my_train\u001b[0m\u001b[0;34m.\u001b[0m\u001b[0mbaseline\u001b[0m\u001b[0;34m)\u001b[0m\u001b[0;34m**\u001b[0m\u001b[0;34m(\u001b[0m\u001b[0;36m1\u001b[0m\u001b[0;34m/\u001b[0m\u001b[0;36m2\u001b[0m\u001b[0;34m)\u001b[0m\u001b[0;34m\u001b[0m\u001b[0;34m\u001b[0m\u001b[0m\n\u001b[0m\u001b[1;32m      7\u001b[0m \u001b[0mbaseline_rmse_validate\u001b[0m \u001b[0;34m=\u001b[0m \u001b[0mmean_squared_error\u001b[0m\u001b[0;34m(\u001b[0m\u001b[0my_val\u001b[0m\u001b[0;34m.\u001b[0m\u001b[0mtax_value\u001b[0m\u001b[0;34m,\u001b[0m \u001b[0my_val\u001b[0m\u001b[0;34m.\u001b[0m\u001b[0mbaseline\u001b[0m\u001b[0;34m)\u001b[0m\u001b[0;34m**\u001b[0m\u001b[0;34m(\u001b[0m\u001b[0;36m1\u001b[0m\u001b[0;34m/\u001b[0m\u001b[0;36m2\u001b[0m\u001b[0;34m)\u001b[0m\u001b[0;34m\u001b[0m\u001b[0;34m\u001b[0m\u001b[0m\n\u001b[1;32m      8\u001b[0m \u001b[0;34m\u001b[0m\u001b[0m\n",
      "\u001b[0;32m~/opt/anaconda3/lib/python3.9/site-packages/pandas/core/generic.py\u001b[0m in \u001b[0;36m__getattr__\u001b[0;34m(self, name)\u001b[0m\n\u001b[1;32m   5485\u001b[0m         ):\n\u001b[1;32m   5486\u001b[0m             \u001b[0;32mreturn\u001b[0m \u001b[0mself\u001b[0m\u001b[0;34m[\u001b[0m\u001b[0mname\u001b[0m\u001b[0;34m]\u001b[0m\u001b[0;34m\u001b[0m\u001b[0;34m\u001b[0m\u001b[0m\n\u001b[0;32m-> 5487\u001b[0;31m         \u001b[0;32mreturn\u001b[0m \u001b[0mobject\u001b[0m\u001b[0;34m.\u001b[0m\u001b[0m__getattribute__\u001b[0m\u001b[0;34m(\u001b[0m\u001b[0mself\u001b[0m\u001b[0;34m,\u001b[0m \u001b[0mname\u001b[0m\u001b[0;34m)\u001b[0m\u001b[0;34m\u001b[0m\u001b[0;34m\u001b[0m\u001b[0m\n\u001b[0m\u001b[1;32m   5488\u001b[0m \u001b[0;34m\u001b[0m\u001b[0m\n\u001b[1;32m   5489\u001b[0m     \u001b[0;32mdef\u001b[0m \u001b[0m__setattr__\u001b[0m\u001b[0;34m(\u001b[0m\u001b[0mself\u001b[0m\u001b[0;34m,\u001b[0m \u001b[0mname\u001b[0m\u001b[0;34m:\u001b[0m \u001b[0mstr\u001b[0m\u001b[0;34m,\u001b[0m \u001b[0mvalue\u001b[0m\u001b[0;34m)\u001b[0m \u001b[0;34m->\u001b[0m \u001b[0;32mNone\u001b[0m\u001b[0;34m:\u001b[0m\u001b[0;34m\u001b[0m\u001b[0;34m\u001b[0m\u001b[0m\n",
      "\u001b[0;31mAttributeError\u001b[0m: 'Series' object has no attribute 'tax_value'"
     ]
    }
   ],
   "source": [
    "# establish a baseline for predicted tax value using median which is common for housing values\n",
    "y_train['baseline'] = train.tax_value.median()\n",
    "y_val['baseline'] = train.tax_value.median()\n",
    "\n",
    "# calculate baseline rmse for train and validate using median which is common for housing values\n",
    "baseline_rmse_train = mean_squared_error(y_train.tax_value, y_train.baseline)**(1/2)\n",
    "baseline_rmse_validate = mean_squared_error(y_val.tax_value, y_val.baseline)**(1/2)\n",
    "\n",
    "print(\"RMSE using Median\\nTrain/In-Sample: \", round(baseline_rmse_train, 2), \n",
    "      \"\\nValidate/Out-of-Sample: \", round(baseline_rmse_validate, 2))"
   ]
  },
  {
   "cell_type": "markdown",
   "id": "a3230f57",
   "metadata": {},
   "source": [
    "#### K_Best"
   ]
  },
  {
   "cell_type": "code",
   "execution_count": null,
   "id": "52f934b0",
   "metadata": {},
   "outputs": [],
   "source": [
    "# use SelectKBest to select top two features\n",
    "\n",
    "# Make the model\n",
    "kbest = SelectKBest(f_regression, k=3)\n",
    "\n",
    "# Fit the thing\n",
    "kbest.fit(x_train, y_train)\n",
    "\n",
    "# Boolean mask of whether the column was selected or not. \n",
    "feature_mask = kbest.get_support()\n",
    "\n",
    "# Use the thing to get list of top K features. \n",
    "kbest = x_train.iloc[:,feature_mask].columns.tolist()\n",
    "print(f'kbest for predicting tax value are: {kbest}')"
   ]
  },
  {
   "cell_type": "markdown",
   "id": "77e29431",
   "metadata": {},
   "source": [
    "## Scaling"
   ]
  },
  {
   "cell_type": "code",
   "execution_count": null,
   "id": "9cdec0e7",
   "metadata": {},
   "outputs": [],
   "source": [
    "# Scale the numerical data to make it easier to compare\n",
    "   \n",
    "#Make the scaler\n",
    "scaler = sklearn.preprocessing.MinMaxScaler()\n",
    "\n",
    "#Fit the scaler\n",
    "scaler.fit(x_train)\n",
    "\n",
    "# Use the scaler\n",
    "x_train_scaled = scaler.transform(x_train)\n",
    "x_val_scaled = scaler.transform(x_val)\n",
    "x_test_scaled = scaler.transform(x_test)"
   ]
  },
  {
   "cell_type": "markdown",
   "id": "c4c4e633",
   "metadata": {},
   "source": [
    "#### Recursive Feature Elimination"
   ]
  },
  {
   "cell_type": "code",
   "execution_count": null,
   "id": "81530b53",
   "metadata": {},
   "outputs": [],
   "source": [
    "# use RFE to select top two features\n",
    "\n",
    "# Make the things\n",
    "lm = LinearRegression() \n",
    "rfe = RFE(lm, n_features_to_select=3)\n",
    "\n",
    "# Fit the thing\n",
    "rfe.fit(x_train, y_train)\n",
    "\n",
    "# use the thing\n",
    "rfe = x_train.columns[rfe.support_].tolist()\n",
    "print(f'rfe for predicting tax value are: {rfe}')"
   ]
  },
  {
   "cell_type": "markdown",
   "id": "c2a1be01",
   "metadata": {},
   "source": [
    "## Simple Model"
   ]
  },
  {
   "cell_type": "code",
   "execution_count": null,
   "id": "bdda468c",
   "metadata": {},
   "outputs": [],
   "source": [
    "predictions = pd.DataFrame({\n",
    "    'actual': validate.tax_value\n",
    "}) "
   ]
  },
  {
   "cell_type": "code",
   "execution_count": null,
   "id": "adcd52d0",
   "metadata": {},
   "outputs": [],
   "source": [
    "predictions.head()"
   ]
  },
  {
   "cell_type": "code",
   "execution_count": null,
   "id": "4cd7fd12",
   "metadata": {},
   "outputs": [],
   "source": [
    "lm.coef_, lm.intercept_"
   ]
  },
  {
   "cell_type": "markdown",
   "id": "f3e3acea",
   "metadata": {},
   "source": [
    "#### Make a model to predict tax value using number of bathrooms."
   ]
  },
  {
   "cell_type": "code",
   "execution_count": null,
   "id": "393ed7f8",
   "metadata": {},
   "outputs": [],
   "source": [
    "# Set x_train\n",
    "x_train = train[['bathrooms']]\n",
    "# Set y_train as target\n",
    "y_train = train.tax_value\n",
    "\n",
    "# Make the model\n",
    "lm = LinearRegression()\n",
    "# Fit the model\n",
    "lm.fit(x_train, y_train)\n",
    "# 3. Use the model\n",
    "x_validate = validate[['bathrooms']]\n",
    "predictions['simple_lm'] = lm.predict(x_validate)"
   ]
  },
  {
   "cell_type": "code",
   "execution_count": null,
   "id": "074323de",
   "metadata": {},
   "outputs": [],
   "source": [
    "print('Tax Value = {:.3f} * bathrooms {:.3f}'.format(lm.coef_[0], lm.intercept_))"
   ]
  },
  {
   "cell_type": "code",
   "execution_count": null,
   "id": "6725b5bd",
   "metadata": {},
   "outputs": [],
   "source": [
    "bathrooms = np.arange(1, 6)\n",
    "tax_value = lm.predict(bathrooms.reshape(-1, 1))\n",
    "pd.DataFrame(dict(bathrooms=bathrooms, pred_tax_value=tax_value))"
   ]
  },
  {
   "cell_type": "code",
   "execution_count": null,
   "id": "14d873d8",
   "metadata": {},
   "outputs": [],
   "source": [
    "x_pred = np.array([0, 20]).reshape(-1, 1)\n",
    "y_pred = lm.predict(x_pred)\n",
    "\n",
    "plt.figure(figsize=(8, 6))\n",
    "plt.scatter(train.bathrooms, train.tax_value, label='actual')\n",
    "plt.scatter(train.bathrooms, lm.predict(train[['bathrooms']]), label='simple_lm')\n",
    "plt.plot(x_pred, y_pred, ls='--', c='black', label='linear model prediction line')\n",
    "plt.hlines(0, 0, 5, ls=':', color='grey')\n",
    "plt.vlines(0, 0, 5, ls=':', color='grey')\n",
    "\n",
    "plt.xlabel('Tax Value')\n",
    "plt.ylabel('Number of Bathrooms')\n",
    "plt.legend()"
   ]
  },
  {
   "cell_type": "markdown",
   "id": "36ea90e6",
   "metadata": {},
   "source": [
    "#### Make a model to predict tax value using number of bedrooms."
   ]
  },
  {
   "cell_type": "code",
   "execution_count": null,
   "id": "457def4c",
   "metadata": {},
   "outputs": [],
   "source": [
    "# Set x_train\n",
    "x_train = train[['bedrooms']]\n",
    "# Set y_train as target\n",
    "y_train = train.tax_value\n",
    "\n",
    "# Make the model\n",
    "lm = LinearRegression()\n",
    "# Fit the model\n",
    "lm.fit(x_train, y_train)\n",
    "# 3. Use the model\n",
    "x_validate = validate[['bedrooms']]\n",
    "predictions['simple_lm'] = lm.predict(x_validate)"
   ]
  },
  {
   "cell_type": "code",
   "execution_count": null,
   "id": "51f591fd",
   "metadata": {},
   "outputs": [],
   "source": [
    "print('Tax Value = {:.3f} * bedrooms {:.3f}'.format(lm.coef_[0], lm.intercept_))"
   ]
  },
  {
   "cell_type": "code",
   "execution_count": null,
   "id": "93c0a65a",
   "metadata": {},
   "outputs": [],
   "source": [
    "x_pred = np.array([0, 20]).reshape(-1, 1)\n",
    "y_pred = lm.predict(x_pred)\n",
    "\n",
    "plt.figure(figsize=(8, 6))\n",
    "plt.hist(train.bedrooms, train.tax_value, label='actual')\n",
    "plt.hist(train.bedrooms, lm.predict(train[['bedrooms']]), label='simple_lm')\n",
    "plt.plot(x_pred, y_pred, ls='--', c='black', label='linear model prediction line')\n",
    "plt.hlines(0, 0, 5, ls=':', color='grey')\n",
    "plt.vlines(0, 0, 5, ls=':', color='grey')\n",
    "\n",
    "plt.xlabel('Tax Value')\n",
    "plt.ylabel('Number of Bedrooms')\n",
    "plt.legend()"
   ]
  },
  {
   "cell_type": "code",
   "execution_count": null,
   "id": "714c8a1a",
   "metadata": {},
   "outputs": [],
   "source": []
  }
 ],
 "metadata": {
  "kernelspec": {
   "display_name": "Python 3 (ipykernel)",
   "language": "python",
   "name": "python3"
  },
  "language_info": {
   "codemirror_mode": {
    "name": "ipython",
    "version": 3
   },
   "file_extension": ".py",
   "mimetype": "text/x-python",
   "name": "python",
   "nbconvert_exporter": "python",
   "pygments_lexer": "ipython3",
   "version": "3.9.7"
  }
 },
 "nbformat": 4,
 "nbformat_minor": 5
}
