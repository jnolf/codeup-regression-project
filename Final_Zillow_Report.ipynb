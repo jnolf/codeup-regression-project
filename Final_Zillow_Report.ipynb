{
 "cells": [
  {
   "cell_type": "code",
   "execution_count": 1,
   "id": "a5a0e274",
   "metadata": {},
   "outputs": [],
   "source": [
    "import numpy as np\n",
    "import pandas as pd\n",
    "\n",
    "import matplotlib.pyplot as plt\n",
    "import seaborn as sns\n",
    "\n",
    "from sklearn.model_selection import train_test_split\n",
    "import sklearn.preprocessing\n",
    "from sklearn.feature_selection import SelectKBest, f_regression, RFE\n",
    "from sklearn.linear_model import LinearRegression, LassoLars, TweedieRegressor\n",
    "from sklearn.metrics import mean_squared_error, r2_score\n",
    "from sklearn.preprocessing import PolynomialFeatures\n",
    "from scipy.stats import pearsonr\n",
    "\n",
    "import os\n",
    "from env import username, password, host\n",
    "import env\n",
    "\n",
    "import acquire as a\n",
    "import prepare as p\n",
    "\n",
    "import warnings\n",
    "warnings.filterwarnings(\"ignore\")"
   ]
  },
  {
   "cell_type": "markdown",
   "id": "52aa19ed",
   "metadata": {},
   "source": [
    "----"
   ]
  },
  {
   "cell_type": "markdown",
   "id": "7bee26a1",
   "metadata": {},
   "source": [
    "### <u> Zillow Regression Project - Estimating Housing Value<u>\n",
    "     Reported by Jerry Nolf  -  March 30, 2022"
   ]
  },
  {
   "cell_type": "markdown",
   "id": "37f2f2d8",
   "metadata": {},
   "source": [
    "----"
   ]
  },
  {
   "cell_type": "markdown",
   "id": "6218c530",
   "metadata": {},
   "source": [
    "### Project Description: \n",
    "\n",
    "Zillow offers a lot to value to real estate professionals, customers, and the public by offering usable real estate data on its sites. From buying properties to selling them, Zillow offers these resources to help in all facets of the real estate market. \n",
    "\n",
    "This project has been requested, per email from the Data Science Team, in order to help improve the current Zillow machine learning model that can properly assess property tax values of single family residences. "
   ]
  },
  {
   "cell_type": "markdown",
   "id": "f3172b19",
   "metadata": {},
   "source": [
    "#### Project Goal:\n",
    "\n",
    "The goal of this project is to identify key drivers of property tax values for single family properties purchased in 2017 and to create an improved machine learning regression model that will improve upon our baseline.\n",
    "\n",
    "These drivers will help us better understand just how impactful certain key elements of these properties are or are not. In turn, they will help to create a more refined model through this project along with future fine-tuning."
   ]
  },
  {
   "cell_type": "markdown",
   "id": "1b63d113",
   "metadata": {},
   "source": [
    "----"
   ]
  },
  {
   "cell_type": "markdown",
   "id": "52df1149",
   "metadata": {},
   "source": [
    "### Acquiring the data:"
   ]
  },
  {
   "cell_type": "markdown",
   "id": "19b55cbf",
   "metadata": {},
   "source": [
    "Our data will be pulled from our Zillow database. In our SQL query, we joined the following relational databases together:\n",
    "\n",
    "    - properties_2017\n",
    "    - propertylandusetype\n",
    "    - predictions_2017\n",
    "   \n",
    "With these joined, we were able to access the following tables of information for Single Family Residential homes with a transaction date in 2017:\n",
    "\n",
    "    - Bedroom Count\n",
    "    - Bathroom Count\n",
    "    - Calculated Finished Square Footage\n",
    "    - Lot Square Footage\n",
    "    - FIPS\n",
    "    - Tax Value\n",
    "    \n",
    "This will allow for the gathering of all relevant data into one database. Once the data is acquired for the first time, it will create a .csv file that can be pulled from the active directory.\n",
    "\n",
    "An acquire.py file was then created in order to perform the above steps by simply importing acquire and using it's local 'acquire_zillow' function. "
   ]
  },
  {
   "cell_type": "code",
   "execution_count": 2,
   "id": "55b379de",
   "metadata": {},
   "outputs": [
    {
     "name": "stdout",
     "output_type": "stream",
     "text": [
      "Using cached csv\n"
     ]
    },
    {
     "data": {
      "text/plain": [
       "(52441, 7)"
      ]
     },
     "execution_count": 2,
     "metadata": {},
     "output_type": "execute_result"
    }
   ],
   "source": [
    "# Acquire our data\n",
    "df = a.acquire_zillow()\n",
    "df.shape"
   ]
  },
  {
   "cell_type": "markdown",
   "id": "ad892cb9",
   "metadata": {},
   "source": [
    "After acquiring and specifying the data we want using our SQL query, we see that it results in a DataFrame that contains 52,441 rows and 7 columns.\n",
    "\n"
   ]
  },
  {
   "cell_type": "markdown",
   "id": "24454471",
   "metadata": {},
   "source": [
    "----"
   ]
  },
  {
   "cell_type": "markdown",
   "id": "2d396c9e",
   "metadata": {},
   "source": [
    "### Preparing the data:"
   ]
  },
  {
   "cell_type": "markdown",
   "id": "b7a5df07",
   "metadata": {},
   "source": [
    "After acquisition, the prepare.py file can be used to clean the data and conduct feature engineering prior to splitting into 'train, validate, test'. The wrangle_zillow function will be called to do the following:\n",
    "\n",
    "     - Remove outliers that will skew our data\n",
    "         - Used a quantile based function\n",
    "         - sqft greater than 500 and less than 3,000\n",
    "         - bathrooms greater than or equal to 1\n",
    "     - Drop any null values that will impede the ML process\n",
    "     - Ensure that used columns are integer values\n",
    "     - Rename the fips codes to the counties ZACH LOST!!! smh\n",
    "     - Rename 'fips' to 'county' to better describe the column \n",
    "     - Split our data into proper train, validate, and test samples\n",
    "     - Combine all these actions into a single callable function\n",
    "     "
   ]
  },
  {
   "cell_type": "code",
   "execution_count": 3,
   "id": "f51c545c",
   "metadata": {},
   "outputs": [
    {
     "data": {
      "text/plain": [
       "((18278, 7), (7834, 7), (6529, 7))"
      ]
     },
     "execution_count": 3,
     "metadata": {},
     "output_type": "execute_result"
    }
   ],
   "source": [
    "train, validate, test = p.wrangle_zillow(df)\n",
    "train.shape, validate.shape, test.shape"
   ]
  },
  {
   "cell_type": "markdown",
   "id": "ae3be1bf",
   "metadata": {},
   "source": [
    "How many rows are we left with after dropping outliers and nulls?"
   ]
  },
  {
   "cell_type": "code",
   "execution_count": 4,
   "id": "4670ca6f",
   "metadata": {},
   "outputs": [
    {
     "data": {
      "text/plain": [
       "32641"
      ]
     },
     "execution_count": 4,
     "metadata": {},
     "output_type": "execute_result"
    }
   ],
   "source": [
    "train.shape[0]+validate.shape[0]+test.shape[0]"
   ]
  },
  {
   "cell_type": "markdown",
   "id": "fddf283c",
   "metadata": {},
   "source": [
    "How many rows were dropped because of outliers and nulls? "
   ]
  },
  {
   "cell_type": "code",
   "execution_count": 5,
   "id": "e2f49537",
   "metadata": {},
   "outputs": [
    {
     "data": {
      "text/plain": [
       "19800"
      ]
     },
     "execution_count": 5,
     "metadata": {},
     "output_type": "execute_result"
    }
   ],
   "source": [
    "df.shape[0] - (train.shape[0]+validate.shape[0]+test.shape[0])"
   ]
  },
  {
   "cell_type": "markdown",
   "id": "2ca6a073",
   "metadata": {},
   "source": [
    "#### Worth noting:\n",
    "Dropping the *19,800* outliers and nulls may pose a problem; especially when trying to work with outliers in the future."
   ]
  },
  {
   "cell_type": "code",
   "execution_count": 6,
   "id": "df33031a",
   "metadata": {},
   "outputs": [
    {
     "data": {
      "text/html": [
       "<div>\n",
       "<style scoped>\n",
       "    .dataframe tbody tr th:only-of-type {\n",
       "        vertical-align: middle;\n",
       "    }\n",
       "\n",
       "    .dataframe tbody tr th {\n",
       "        vertical-align: top;\n",
       "    }\n",
       "\n",
       "    .dataframe thead th {\n",
       "        text-align: right;\n",
       "    }\n",
       "</style>\n",
       "<table border=\"1\" class=\"dataframe\">\n",
       "  <thead>\n",
       "    <tr style=\"text-align: right;\">\n",
       "      <th></th>\n",
       "      <th>bedrooms</th>\n",
       "      <th>bathrooms</th>\n",
       "      <th>sqft</th>\n",
       "      <th>tax_value</th>\n",
       "      <th>yr_built</th>\n",
       "      <th>lot_sqft</th>\n",
       "      <th>county</th>\n",
       "    </tr>\n",
       "  </thead>\n",
       "  <tbody>\n",
       "    <tr>\n",
       "      <th>25550</th>\n",
       "      <td>3</td>\n",
       "      <td>2.0</td>\n",
       "      <td>1258</td>\n",
       "      <td>392583</td>\n",
       "      <td>1956</td>\n",
       "      <td>6000</td>\n",
       "      <td>Orange</td>\n",
       "    </tr>\n",
       "    <tr>\n",
       "      <th>47111</th>\n",
       "      <td>5</td>\n",
       "      <td>3.0</td>\n",
       "      <td>1929</td>\n",
       "      <td>520296</td>\n",
       "      <td>1964</td>\n",
       "      <td>6002</td>\n",
       "      <td>Los Angeles</td>\n",
       "    </tr>\n",
       "  </tbody>\n",
       "</table>\n",
       "</div>"
      ],
      "text/plain": [
       "       bedrooms  bathrooms  sqft  tax_value  yr_built  lot_sqft       county\n",
       "25550         3        2.0  1258     392583      1956      6000       Orange\n",
       "47111         5        3.0  1929     520296      1964      6002  Los Angeles"
      ]
     },
     "execution_count": 6,
     "metadata": {},
     "output_type": "execute_result"
    }
   ],
   "source": [
    "train.head(2)"
   ]
  },
  {
   "cell_type": "markdown",
   "id": "39783a27",
   "metadata": {},
   "source": [
    "After running our split, our data remains in 7 columns but our rows have decreased in size to 56% for the training data set, 24% for the validate dataset, and 20% for our test dataset. This helps us determine that our split was done correctly."
   ]
  },
  {
   "cell_type": "markdown",
   "id": "e76465bb",
   "metadata": {},
   "source": [
    "----"
   ]
  },
  {
   "cell_type": "markdown",
   "id": "614a51b0",
   "metadata": {},
   "source": [
    "### Explore the data:"
   ]
  },
  {
   "cell_type": "markdown",
   "id": "7c557a7e",
   "metadata": {},
   "source": [
    "To start our exploration, we take a look a a horizontal bar graph that will allow us the visualize the the strength of corrleation between our categories pulled from our database and tax value of properties. This will help us identify key drivers."
   ]
  },
  {
   "cell_type": "code",
   "execution_count": 7,
   "id": "ea2426b8",
   "metadata": {
    "scrolled": false
   },
   "outputs": [
    {
     "data": {
      "text/plain": [
       "Text(0.5, 0, 'Strength of Correlation to Tax Value')"
      ]
     },
     "execution_count": 7,
     "metadata": {},
     "output_type": "execute_result"
    },
    {
     "data": {
      "image/png": "[encoded data removed]",
      "text/plain": [
       "<Figure size 576x360 with 1 Axes>"
      ]
     },
     "metadata": {
      "needs_background": "light"
     },
     "output_type": "display_data"
    }
   ],
   "source": [
    "hbar_corr = df.corr()['tax_value'].sort_values().plot(kind='barh', figsize=(8,5))\n",
    "plt.title('Rankings of Correlation to Tax Value')\n",
    "plt.xlabel('Strength of Correlation to Tax Value')"
   ]
  },
  {
   "cell_type": "markdown",
   "id": "27f8a43a",
   "metadata": {},
   "source": [
    "After a quick overview, we're faced with a few questions and a need for more evidence related to the drivers we've identified so far:\n",
    "\n",
    "    - What county has the highest tax values?\n",
    "    - Does house square footage affect tax value?\n",
    "    - Does number of bedrooms affect tax value?\n",
    "    - Does number of bathrooms affect tax value?\n",
    "       \n",
    "Let's continue and take a look..."
   ]
  },
  {
   "cell_type": "markdown",
   "id": "9a2de504",
   "metadata": {},
   "source": [
    "#### What county has the highest tax values?"
   ]
  },
  {
   "cell_type": "markdown",
   "id": "1a046cb2",
   "metadata": {},
   "source": [
    "Let's use a boxplot to see if there are any obvious differences between counties in terms of tax values."
   ]
  },
  {
   "cell_type": "code",
   "execution_count": 8,
   "id": "64da912f",
   "metadata": {},
   "outputs": [
    {
     "data": {
      "image/png": "[encoded data removed]",
      "text/plain": [
       "<Figure size 864x432 with 1 Axes>"
      ]
     },
     "metadata": {
      "needs_background": "light"
     },
     "output_type": "display_data"
    }
   ],
   "source": [
    "plt.figure(figsize=(12,6))\n",
    "\n",
    "sns.boxplot(x='county', y='tax_value', data=train , palette='colorblind')\n",
    "plt.title('Property Tax Values Are Highest In Orange County Slightly Besting out Ventura County', fontsize=15)\n",
    "plt.ylabel('Tax Value in US$')\n",
    "plt.xlabel('Property County')\n",
    "plt.tight_layout()"
   ]
  },
  {
   "cell_type": "markdown",
   "id": "ca6a7fa9",
   "metadata": {},
   "source": [
    "#### In conclusion:\n",
    "\n",
    "Based on our visualization, we see that Orange county homes, on average, have the highest tax values by slightly higher than Ventura county and by a more higher than Los Angeles county."
   ]
  },
  {
   "cell_type": "markdown",
   "id": "d837ec27",
   "metadata": {},
   "source": [
    "#### Does a house's square footage affect tax value?"
   ]
  },
  {
   "cell_type": "code",
   "execution_count": 9,
   "id": "a9d8c926",
   "metadata": {
    "scrolled": false
   },
   "outputs": [
    {
     "data": {
      "text/plain": [
       "Text(6.799999999999997, 0.5, 'Tax Value in US$')"
      ]
     },
     "execution_count": 9,
     "metadata": {},
     "output_type": "execute_result"
    },
    {
     "data": {
      "image/png": "[encoded data removed]",
      "text/plain": [
       "<Figure size 360x360 with 1 Axes>"
      ]
     },
     "metadata": {
      "needs_background": "light"
     },
     "output_type": "display_data"
    }
   ],
   "source": [
    "\n",
    "ax1 = sns.relplot(x ='sqft', y ='tax_value', data = train,\n",
    "            palette = 'colorblind',kind = 'scatter')\n",
    "plt.title('House Square Footage vs Tax Value is Messy and Unclear')\n",
    "plt.ticklabel_format(style = 'plain')\n",
    "plt.xlabel('House Square Footage')\n",
    "plt.ylabel('Tax Value in US$')\n"
   ]
  },
  {
   "cell_type": "markdown",
   "id": "bfce6606",
   "metadata": {},
   "source": [
    "With an unclear visual, let's establish a hypothesis and try to find some clarity through statistics:"
   ]
  },
  {
   "cell_type": "markdown",
   "id": "501c9a9e",
   "metadata": {},
   "source": [
    "#### Hypothesis:\n",
    " - H0: There is no linear relationship between a houses's square footage and tax value of a property.\n",
    " \n",
    " - Ha: There is a linear relationship between a houses's square footage and tax value of a property."
   ]
  },
  {
   "cell_type": "markdown",
   "id": "b6c5c1d9",
   "metadata": {},
   "source": [
    "Let's take a look at whether a Pearson's R allows to accept our null hypothesis... "
   ]
  },
  {
   "cell_type": "code",
   "execution_count": 10,
   "id": "5ea32199",
   "metadata": {},
   "outputs": [
    {
     "name": "stdout",
     "output_type": "stream",
     "text": [
      "r-value = 0.35115\n",
      "p-value = 0.0\n",
      "The null hypothesis is rejected! \n"
     ]
    }
   ],
   "source": [
    "# Set our alpha\n",
    "alpha = .05\n",
    "\n",
    "# Set what info we want and run Pearson's R on our two train sets\n",
    "r, p = pearsonr(train.sqft, train.tax_value)\n",
    "\n",
    "\n",
    "# Set our parameters to print our answer\n",
    "if p > alpha:\n",
    "    print(f'r-value = {round(r,5)}')\n",
    "    print(f'p-value = {round(p,5)}')\n",
    "    print('We fail to reject the null hypothesis')\n",
    "else:\n",
    "    print(f'r-value = {round(r,5)}')\n",
    "    print(f'p-value = {round(p,5)}')\n",
    "    print('The null hypothesis is rejected! ')"
   ]
  },
  {
   "cell_type": "markdown",
   "id": "fbcd8b4b",
   "metadata": {},
   "source": [
    "#### In conclusion:\n",
    "\n",
    "We can use our statistical analysis and visualizations to determine that there is a linear relationship between a houses's square footage and tax value."
   ]
  },
  {
   "cell_type": "markdown",
   "id": "156ff3c1",
   "metadata": {},
   "source": [
    "#### Does number of bedrooms affect tax value?"
   ]
  },
  {
   "cell_type": "code",
   "execution_count": 35,
   "id": "3542e43f",
   "metadata": {},
   "outputs": [
    {
     "data": {
      "text/plain": [
       "Text(0, 0.5, 'Tax Value in US$')"
      ]
     },
     "execution_count": 35,
     "metadata": {},
     "output_type": "execute_result"
    },
    {
     "data": {
      "image/png": "[encoded data removed]",
      "text/plain": [
       "<Figure size 432x288 with 1 Axes>"
      ]
     },
     "metadata": {
      "needs_background": "light"
     },
     "output_type": "display_data"
    }
   ],
   "source": [
    "sns.boxplot(x ='bedrooms', y ='tax_value', data = train, palette ='colorblind')\n",
    "plt.title('Quantity of Bedrooms vs Tax Value')\n",
    "plt.xlabel('Quantity of Bedrooms')\n",
    "plt.ylabel('Tax Value in US$')"
   ]
  },
  {
   "cell_type": "markdown",
   "id": "8ef360a3",
   "metadata": {},
   "source": [
    "Number of bedrooms is a driver. Let's take a look at a Pearson's R test after establishing our hypothesis."
   ]
  },
  {
   "cell_type": "markdown",
   "id": "396bbfce",
   "metadata": {},
   "source": [
    "#### Hypothesis:\n",
    " - H0: There is no linear relationship between number of bedrooms and tax value of a property.\n",
    " \n",
    " - Ha: There is a linear relationship between number of bedrooms and tax value of a property."
   ]
  },
  {
   "cell_type": "code",
   "execution_count": 12,
   "id": "b6942190",
   "metadata": {},
   "outputs": [
    {
     "name": "stdout",
     "output_type": "stream",
     "text": [
      "r-value = 0.0882\n",
      "p-value = 0.0\n",
      "The null hypothesis is rejected! \n"
     ]
    }
   ],
   "source": [
    "# Set our alpha\n",
    "alpha = .05\n",
    "\n",
    "# Set what info we want and run Pearson's R on our two train sets\n",
    "r, p = pearsonr(train.bedrooms, train.tax_value)\n",
    "\n",
    "# Set our parameters to print our answer\n",
    "if p > alpha:\n",
    "    print(f'r-value = {round(r,5)}')\n",
    "    print(f'p-value = {round(p,5)}')\n",
    "    print('We fail to reject the null hypothesis')\n",
    "else:\n",
    "    print(f'r-value = {round(r,5)}')\n",
    "    print(f'p-value = {round(p,5)}')\n",
    "    print('The null hypothesis is rejected! ')"
   ]
  },
  {
   "cell_type": "markdown",
   "id": "c9b716a1",
   "metadata": {},
   "source": [
    "#### In conclusion:\n",
    "\n",
    "We can use our statistical analysis to determine that there is a linear relationship between number of bedrooms and tax value."
   ]
  },
  {
   "cell_type": "markdown",
   "id": "27709571",
   "metadata": {},
   "source": [
    "#### Does number of bathrooms affect tax value?"
   ]
  },
  {
   "cell_type": "code",
   "execution_count": 37,
   "id": "6efd1b34",
   "metadata": {
    "scrolled": false
   },
   "outputs": [
    {
     "data": {
      "text/plain": [
       "Text(0, 0.5, 'Tax Value in US$')"
      ]
     },
     "execution_count": 37,
     "metadata": {},
     "output_type": "execute_result"
    },
    {
     "data": {
      "image/png": "[encoded data removed]",
      "text/plain": [
       "<Figure size 432x288 with 1 Axes>"
      ]
     },
     "metadata": {
      "needs_background": "light"
     },
     "output_type": "display_data"
    }
   ],
   "source": [
    "sns.boxplot(x ='bathrooms', y ='tax_value', data = train, palette ='colorblind')\n",
    "plt.title('Quantity of Bathrooms vs Tax Value is Clear')\n",
    "plt.xlabel('Quantity of Bathrooms')\n",
    "plt.ylabel('Tax Value in US$')"
   ]
  },
  {
   "cell_type": "markdown",
   "id": "285691e9",
   "metadata": {},
   "source": [
    "Full bathrooms are nice. Half-baths are NICER for tax value. Let us go back to our Pearson's R to look at the categories liinear relationship wit htax value."
   ]
  },
  {
   "cell_type": "markdown",
   "id": "1a681eab",
   "metadata": {},
   "source": [
    "#### Hypothesis:\n",
    " - H0: There is no linear relationship between number of bathrooms and tax value of a property.\n",
    " \n",
    " - Ha: There is a linear relationship between number of bathrooms and tax value of a property."
   ]
  },
  {
   "cell_type": "code",
   "execution_count": 14,
   "id": "081c3827",
   "metadata": {},
   "outputs": [
    {
     "name": "stdout",
     "output_type": "stream",
     "text": [
      "r-value = 0.27716\n",
      "p-value = 0.0\n",
      "The null hypothesis is rejected! \n"
     ]
    }
   ],
   "source": [
    "# Set our alpha\n",
    "alpha = .05\n",
    "\n",
    "# Set what info we want and run Pearson's R on our two train sets\n",
    "r, p = pearsonr(train.bathrooms, train.tax_value)\n",
    "\n",
    "# Set our parameters to print our answer\n",
    "if p > alpha:\n",
    "    print(f'r-value = {round(r,5)}')\n",
    "    print(f'p-value = {round(p,5)}')\n",
    "    print('We fail to reject the null hypothesis')\n",
    "else:\n",
    "    print(f'r-value = {round(r,5)}')\n",
    "    print(f'p-value = {round(p,5)}')\n",
    "    print('The null hypothesis is rejected! ')"
   ]
  },
  {
   "cell_type": "markdown",
   "id": "c9da2efc",
   "metadata": {},
   "source": [
    "#### In conclusion:\n",
    "\n",
    "We can use our statistical analysis to determine that there is a linear relationship between number of bathrooms and tax value."
   ]
  },
  {
   "cell_type": "markdown",
   "id": "39046b11",
   "metadata": {},
   "source": [
    "### Modeling"
   ]
  },
  {
   "cell_type": "markdown",
   "id": "53cc496c",
   "metadata": {},
   "source": [
    "We start our modeling by establishing our baseline and making a column on the end of our train, validate, and test dataframes."
   ]
  },
  {
   "cell_type": "markdown",
   "id": "025c1f24",
   "metadata": {},
   "source": [
    "#### Set x's and y's:"
   ]
  },
  {
   "cell_type": "code",
   "execution_count": 15,
   "id": "501fc7e0",
   "metadata": {},
   "outputs": [],
   "source": [
    "# Define the X and y's while dropping the target \n",
    "target = 'tax_value'\n",
    "    \n",
    "# Split train into x (dataframe, drop target) & y (series, keep target only)\n",
    "x_train = train.drop(columns=[target])\n",
    "y_train = train[target]\n",
    "\n",
    "# Split validate into x (dataframe, drop target) & y (series, keep target only)\n",
    "x_validate = validate.drop(columns=[target])\n",
    "y_validate = validate[target]\n",
    "\n",
    "# Split test into x (dataframe, drop target) & y (series, keep target only)\n",
    "x_test = test.drop(columns=[target])\n",
    "y_test = test[target]"
   ]
  },
  {
   "cell_type": "markdown",
   "id": "82d8504d",
   "metadata": {},
   "source": [
    "#### Set the baseline:"
   ]
  },
  {
   "cell_type": "code",
   "execution_count": 16,
   "id": "db094bec",
   "metadata": {},
   "outputs": [
    {
     "name": "stdout",
     "output_type": "stream",
     "text": [
      "====================================\n",
      "         RMSE using Median  \n",
      "====================================\n",
      "RMSE using Median\n",
      "Train/In-Sample:  226057.9 \n",
      "Validate/Out-of-Sample:  227348.73\n",
      "------------------------------------\n"
     ]
    }
   ],
   "source": [
    "# Turn y_train and y_validate into dataframes so we can append new columns\n",
    "y_train = pd.DataFrame(y_train)\n",
    "y_validate = pd.DataFrame(y_validate)\n",
    "\n",
    "#Calculate tax_value median\n",
    "tax_value_pred_median = y_train['tax_value'].median()\n",
    "y_train['tax_value_pred_median'] = tax_value_pred_median\n",
    "y_validate['tax_value_pred_median'] = tax_value_pred_median\n",
    "\n",
    "# Calcualte RMSE of tax_value_pred_mean\n",
    "basemedian_rmse_train = mean_squared_error(y_train.tax_value, y_train.tax_value_pred_median)**(1/2)\n",
    "basemedian_rmse_validate = mean_squared_error(y_validate.tax_value, y_validate.tax_value_pred_median)**(1/2)\n",
    "\n",
    "print('====================================')\n",
    "print('         RMSE using Median  ')\n",
    "print('====================================')\n",
    "print(\"RMSE using Median\\nTrain/In-Sample: \", round(basemedian_rmse_train, 2), \n",
    "      \"\\nValidate/Out-of-Sample: \", round(basemedian_rmse_validate, 2))\n",
    "print('------------------------------------')"
   ]
  },
  {
   "cell_type": "markdown",
   "id": "99f20581",
   "metadata": {},
   "source": [
    "#### Scale the data:"
   ]
  },
  {
   "cell_type": "code",
   "execution_count": 17,
   "id": "22267114",
   "metadata": {},
   "outputs": [],
   "source": [
    "# Define our columns for scaling\n",
    "scale_cols = ['bedrooms', 'bathrooms', 'sqft', 'lot_sqft']\n",
    "\n",
    "#Make the scaler\n",
    "scaler = sklearn.preprocessing.MinMaxScaler()\n",
    "\n",
    "#Fit the scaler\n",
    "scaler.fit(x_train[scale_cols])\n",
    "\n",
    "# Use the scaler and make each scaled set a DataFrame\n",
    "x_train_scaled = scaler.transform(x_train[scale_cols])\n",
    "x_train_scaled = pd.DataFrame(x_train_scaled, columns = scale_cols)\n",
    "\n",
    "x_validate_scaled = scaler.transform(x_validate[scale_cols])\n",
    "x_validate_scaled = pd.DataFrame(x_validate_scaled, columns = scale_cols)\n",
    "\n",
    "x_test_scaled = scaler.transform(x_test[scale_cols])\n",
    "x_test_scaled = pd.DataFrame(x_test_scaled, columns = scale_cols)\n",
    "\n",
    "# Convert y to DataFrame\n",
    "y_train = pd.DataFrame(y_train)\n",
    "\n",
    "y_validate = pd.DataFrame(y_validate)\n",
    "\n",
    "y_test  = pd.DataFrame(y_test)"
   ]
  },
  {
   "cell_type": "markdown",
   "id": "fa4d7b5c",
   "metadata": {},
   "source": [
    "#### RFE:\n",
    "\n",
    "Justify our features used and ensure no major drivers were missed with using Recursive Feature Elimination."
   ]
  },
  {
   "cell_type": "code",
   "execution_count": 18,
   "id": "f0cad8dc",
   "metadata": {},
   "outputs": [
    {
     "name": "stdout",
     "output_type": "stream",
     "text": [
      "RFE features for predicting tax value are: ['bedrooms', 'bathrooms', 'sqft']\n"
     ]
    }
   ],
   "source": [
    "# Make the RFE object\n",
    "lm = LinearRegression() \n",
    "rfe = RFE(lm, n_features_to_select=3)\n",
    "\n",
    "# Fit the RFE \n",
    "rfe.fit(x_train_scaled, y_train.tax_value)\n",
    "\n",
    "# Use the RFE\n",
    "rfe_features = x_train_scaled.columns[rfe.support_].tolist()\n",
    "print(f'RFE features for predicting tax value are: {rfe_features}')"
   ]
  },
  {
   "cell_type": "markdown",
   "id": "9827e366",
   "metadata": {},
   "source": [
    "#### Modeling for our data:"
   ]
  },
  {
   "cell_type": "markdown",
   "id": "f640abe5",
   "metadata": {},
   "source": [
    "We create our features and add in lot square footage in order to better set up our model."
   ]
  },
  {
   "cell_type": "code",
   "execution_count": 19,
   "id": "b5ffefeb",
   "metadata": {},
   "outputs": [],
   "source": [
    "# Define our modeling features:\n",
    "features = ['bedrooms', 'bathrooms', 'sqft', 'lot_sqft']"
   ]
  },
  {
   "cell_type": "markdown",
   "id": "46f572cb",
   "metadata": {},
   "source": [
    "#### Linear Regression:"
   ]
  },
  {
   "cell_type": "code",
   "execution_count": 20,
   "id": "24d47579",
   "metadata": {},
   "outputs": [
    {
     "name": "stdout",
     "output_type": "stream",
     "text": [
      "RMSE for OLS using LinearRegression\n",
      "Training/In-Sample:  208294.39 \n",
      "Validation/Out-of-Sample:  208672.8\n"
     ]
    }
   ],
   "source": [
    "# Create the model\n",
    "lm = LinearRegression(normalize=True)\n",
    "\n",
    "# Fit the model \n",
    "lm.fit(x_train_scaled[features], y_train['tax_value'])\n",
    "\n",
    "# Set predictions\n",
    "y_train['tax_value_pred_lm'] = lm.predict(x_train_scaled[features])\n",
    "\n",
    "# Evaluate RMSE for train\n",
    "rmse_train = mean_squared_error(y_train.tax_value, y_train.tax_value_pred_lm)**(1/2)\n",
    "\n",
    "# Predict validate \n",
    "y_validate['tax_value_pred_lm'] = lm.predict(x_validate_scaled[features])\n",
    "\n",
    "# Evaluate RMSE on validate\n",
    "rmse_validate = mean_squared_error(y_validate.tax_value, y_validate.tax_value_pred_lm)**(1/2)\n",
    "\n",
    "print(\"RMSE for OLS using LinearRegression\\nTraining/In-Sample: \", round(rmse_train,2), \n",
    "      \"\\nValidation/Out-of-Sample: \", round(rmse_validate,2))"
   ]
  },
  {
   "cell_type": "markdown",
   "id": "2ad7cb2b",
   "metadata": {},
   "source": [
    "#### LassoLars:"
   ]
  },
  {
   "cell_type": "code",
   "execution_count": 21,
   "id": "1e153178",
   "metadata": {},
   "outputs": [
    {
     "name": "stdout",
     "output_type": "stream",
     "text": [
      "RMSE for Lasso + Lars\n",
      "Training/In-Sample:  208294.64 \n",
      "Validation/Out-of-Sample:  208676.57\n"
     ]
    }
   ],
   "source": [
    "# Create the model\n",
    "lars = LassoLars(alpha=1.0)\n",
    "\n",
    "# Fit the model  \n",
    "lars.fit(x_train_scaled[features], y_train.tax_value)\n",
    "\n",
    "# Predict train\n",
    "y_train['tax_value_pred_lars'] = lars.predict(x_train_scaled[features])\n",
    "\n",
    "# Evaluate RMSEon validate\n",
    "rmse_train2 = mean_squared_error(y_train.tax_value, y_train.tax_value_pred_lars)**(1/2)\n",
    "\n",
    "# predict validate\n",
    "y_validate['tax_value_pred_lars'] = lars.predict(x_validate_scaled[features])\n",
    "\n",
    "# evaluate: rmse\n",
    "rmse_validate2 = mean_squared_error(y_validate.tax_value, y_validate.tax_value_pred_lars)**(1/2)\n",
    "\n",
    "print(\"RMSE for Lasso + Lars\\nTraining/In-Sample: \", round(rmse_train2,2), \n",
    "      \"\\nValidation/Out-of-Sample: \", round(rmse_validate2,2))"
   ]
  },
  {
   "cell_type": "markdown",
   "id": "fcb9862f",
   "metadata": {},
   "source": [
    "#### TweedieRegressor (GLM):"
   ]
  },
  {
   "cell_type": "code",
   "execution_count": 22,
   "id": "dfc7f73b",
   "metadata": {},
   "outputs": [
    {
     "name": "stdout",
     "output_type": "stream",
     "text": [
      "RMSE for GLM using Tweedie, power=1 & alpha=0\n",
      "Training/In-Sample:  208296.0 \n",
      "Validation/Out-of-Sample:  208749.28\n"
     ]
    }
   ],
   "source": [
    "# Create the model\n",
    "glm = TweedieRegressor(power=1, alpha=0)\n",
    "\n",
    "#Fit the model \n",
    "glm.fit(x_train_scaled[features], y_train.tax_value)\n",
    "\n",
    "# Predict train\n",
    "y_train['tax_value_pred_glm'] = glm.predict(x_train_scaled[features])\n",
    "\n",
    "# Evaluate: rmse\n",
    "rmse_train3 = mean_squared_error(y_train.tax_value, y_train.tax_value_pred_glm)**(1/2)\n",
    "\n",
    "# Predict validate\n",
    "y_validate['tax_value_pred_glm'] = glm.predict(x_validate_scaled[features])\n",
    "\n",
    "# Evaluate: rmse\n",
    "rmse_validate3 = mean_squared_error(y_validate.tax_value, y_validate.tax_value_pred_glm)**(1/2)\n",
    "\n",
    "print(\"RMSE for GLM using Tweedie, power=1 & alpha=0\\nTraining/In-Sample: \", round(rmse_train3,2), \n",
    "      \"\\nValidation/Out-of-Sample: \", round(rmse_validate3,2))"
   ]
  },
  {
   "cell_type": "markdown",
   "id": "76fef442",
   "metadata": {},
   "source": [
    "#### Polynomial Features:"
   ]
  },
  {
   "cell_type": "code",
   "execution_count": 23,
   "id": "6ef4898f",
   "metadata": {},
   "outputs": [],
   "source": [
    "# Make the polynomial features to get a new set of features\n",
    "pf = PolynomialFeatures(degree=2)\n",
    "\n",
    "# Fit and transform X_train_scaled\n",
    "x_train_degree2 = pf.fit_transform(x_train_scaled[features])\n",
    "\n",
    "# Transform X_validate_scaled & X_test_scaled\n",
    "x_validate_degree2 = pf.transform(x_validate_scaled[features])\n",
    "# x_test_degree2 = pf.transform(x_test)\n"
   ]
  },
  {
   "cell_type": "code",
   "execution_count": 24,
   "id": "c9cb6aa0",
   "metadata": {},
   "outputs": [
    {
     "name": "stdout",
     "output_type": "stream",
     "text": [
      "RMSE for Polynomial Features using LinearRegression\n",
      "Training/In-Sample:  207168.5 \n",
      "Validation/Out-of-Sample:  208064.58\n"
     ]
    }
   ],
   "source": [
    "# Create the model\n",
    "lm2 = LinearRegression(normalize=True)\n",
    "\n",
    "# Fit the model \n",
    "lm2.fit(x_train_degree2, y_train.tax_value)\n",
    "\n",
    "# Set predictions\n",
    "y_train['tax_value_pred_lm2'] = lm2.predict(x_train_degree2)\n",
    "\n",
    "# Evaluate RMSE for train\n",
    "rmse_train4 = mean_squared_error(y_train.tax_value, y_train.tax_value_pred_lm2)**(1/2)\n",
    "\n",
    "# Predict validate \n",
    "y_validate['tax_value_pred_lm2'] = lm2.predict(x_validate_degree2)\n",
    "\n",
    "# Evaluate RMSE for validate\n",
    "rmse_validate4 = mean_squared_error(y_validate.tax_value, y_validate.tax_value_pred_lm2)**(1/2)\n",
    "\n",
    "print(\"RMSE for Polynomial Features using LinearRegression\\nTraining/In-Sample: \", round(rmse_train4,2), \n",
    "      \"\\nValidation/Out-of-Sample: \", round(rmse_validate4,2))"
   ]
  },
  {
   "cell_type": "code",
   "execution_count": 25,
   "id": "e19a4dce",
   "metadata": {},
   "outputs": [
    {
     "name": "stdout",
     "output_type": "stream",
     "text": [
      "===================================================\n",
      "RMSE for Baseline using Median\n",
      "Train/In-Sample:  226057.9 \n",
      "Validate/Out-of-Sample:  227348.73\n",
      "===================================================\n",
      "RMSE for OLS using LinearRegression\n",
      "Training/In-Sample:  208294.39 \n",
      "Validation/Out-of-Sample:  208672.8\n",
      "---------------------------------------------------\n",
      "RMSE for Lasso + Lars\n",
      "Training/In-Sample:  208294.64 \n",
      "Validation/Out-of-Sample:  208676.57\n",
      "---------------------------------------------------\n",
      "RMSE for GLM using Tweedie, power=1 & alpha=0\n",
      "Training/In-Sample:  208296.0 \n",
      "Validation/Out-of-Sample:  208749.28\n",
      "---------------------------------------------------\n",
      "RMSE for Polynomial Features using LinearRegression\n",
      "Training/In-Sample:  207168.5 \n",
      "Validation/Out-of-Sample:  208064.58\n",
      "===================================================\n"
     ]
    }
   ],
   "source": [
    "print('===================================================')\n",
    "print(\"RMSE for Baseline using Median\\nTrain/In-Sample: \", round(basemedian_rmse_train, 2), \n",
    "      \"\\nValidate/Out-of-Sample: \", round(basemedian_rmse_validate, 2))\n",
    "print('===================================================')\n",
    "print(\"RMSE for OLS using LinearRegression\\nTraining/In-Sample: \", round(rmse_train,2), \n",
    "      \"\\nValidation/Out-of-Sample: \", round(rmse_validate,2))\n",
    "print('---------------------------------------------------')\n",
    "print(\"RMSE for Lasso + Lars\\nTraining/In-Sample: \", round(rmse_train2,2), \n",
    "      \"\\nValidation/Out-of-Sample: \", round(rmse_validate2,2))\n",
    "print('---------------------------------------------------')\n",
    "print(\"RMSE for GLM using Tweedie, power=1 & alpha=0\\nTraining/In-Sample: \", round(rmse_train3,2), \n",
    "      \"\\nValidation/Out-of-Sample: \", round(rmse_validate3,2))\n",
    "print('---------------------------------------------------')\n",
    "print(\"RMSE for Polynomial Features using LinearRegression\\nTraining/In-Sample: \", round(rmse_train4,2), \n",
    "      \"\\nValidation/Out-of-Sample: \", round(rmse_validate4,2))\n",
    "print('===================================================')"
   ]
  },
  {
   "cell_type": "markdown",
   "id": "2b23fdb5",
   "metadata": {},
   "source": [
    "#### Use Our Best Model (Polynomial Features) On Test:"
   ]
  },
  {
   "cell_type": "code",
   "execution_count": 26,
   "id": "abc56dbb",
   "metadata": {},
   "outputs": [],
   "source": [
    "# Make the polynomial features to get a new set of features\n",
    "pf = PolynomialFeatures(degree=2)\n",
    "\n",
    "# Fit and transform X_train_scaled\n",
    "x_train_degree2 = pf.fit_transform(x_train_scaled[features])\n",
    "\n",
    "# Transform X_validate_scaled & X_test_scaled\n",
    "x_validate_degree2 = pf.transform(x_validate_scaled[features])\n",
    "# x_test_degree2 = pf.transform(x_test)"
   ]
  },
  {
   "cell_type": "code",
   "execution_count": 27,
   "id": "135cefca",
   "metadata": {},
   "outputs": [
    {
     "name": "stdout",
     "output_type": "stream",
     "text": [
      "---------------------------------------------\n",
      "Baseline RMSE for Validate Sample:  227348.73\n",
      "RMSE for Test Sample:  208422.7\n",
      "---------------------------------------------\n",
      "Our model beats the baseline by  18926.03\n",
      "---------------------------------------------\n"
     ]
    }
   ],
   "source": [
    "# Create the model\n",
    "lm2 = LinearRegression(normalize=True)\n",
    "\n",
    "# Fit the model \n",
    "lm2.fit(x_test_scaled[features], y_test['tax_value'])\n",
    "\n",
    "# Set predictions\n",
    "y_test['tax_value_pred_lm'] = lm2.predict(x_test_scaled[features])\n",
    "\n",
    "# Predict validate \n",
    "y_test['tax_value_pred_lm'] = lm2.predict(x_test_scaled[features])\n",
    "\n",
    "# Evaluate RMSE for validate\n",
    "rmse_test = mean_squared_error(y_test.tax_value, y_test.tax_value_pred_lm)**(1/2)\n",
    "\n",
    "print ('---------------------------------------------')\n",
    "print(\"Baseline RMSE for Validate Sample: \", round(basemedian_rmse_validate, 2))\n",
    "print(\"RMSE for Test Sample: \", round(rmse_test,2))\n",
    "print ('---------------------------------------------')\n",
    "print(\"Our model beats the baseline by \", (round(basemedian_rmse_validate-rmse_test,2)))\n",
    "print ('---------------------------------------------')"
   ]
  },
  {
   "cell_type": "markdown",
   "id": "d11563a8",
   "metadata": {},
   "source": [
    "### Conclusion:\n"
   ]
  },
  {
   "cell_type": "markdown",
   "id": "df6e4151",
   "metadata": {},
   "source": [
    "The goals of this project were to identify key drivers of tax value for single family residential homes purchased during 2017. These key drivers were found to be the following:\n",
    "\n",
    "    - House Square Footage\n",
    "    - Number of Bedrooms\n",
    "    - Number of Bathrooms\n",
    "    \n",
    "Using these drivers, along with lot square footage, we're able to build a model that is expected to perform with an RMSE of $208,423 on unseen data."
   ]
  },
  {
   "cell_type": "markdown",
   "id": "e9c6e895",
   "metadata": {},
   "source": [
    "#### Recommendation(s):"
   ]
  },
  {
   "cell_type": "markdown",
   "id": "7e8aef99",
   "metadata": {},
   "source": [
    "- Number of bedrooms and bathrooms along with house and lot square footage can be used to help improve the performance of a machine learning regression model."
   ]
  },
  {
   "cell_type": "markdown",
   "id": "9d0762e8",
   "metadata": {},
   "source": [
    "- While our model does work to improve on our baseline, higher quality data is needed in order to fine-tune our model. Our new model used data that had to drop *19,800* rows in order to had true usable data."
   ]
  },
  {
   "cell_type": "markdown",
   "id": "b0a98eed",
   "metadata": {},
   "source": [
    "#### Next Steps:\n",
    "\n",
    "With more time, I would like to:\n",
    " - Work on more feature engineering and explore relationship of categories to tax value further.\n",
    " \n",
    " - Gather more adequate and complete data that will allow for a clearer picture and the possibility for a more refined and detailed model."
   ]
  }
 ],
 "metadata": {
  "kernelspec": {
   "display_name": "Python 3 (ipykernel)",
   "language": "python",
   "name": "python3"
  },
  "language_info": {
   "codemirror_mode": {
    "name": "ipython",
    "version": 3
   },
   "file_extension": ".py",
   "mimetype": "text/x-python",
   "name": "python",
   "nbconvert_exporter": "python",
   "pygments_lexer": "ipython3",
   "version": "3.9.7"
  }
 },
 "nbformat": 4,
 "nbformat_minor": 5
}
